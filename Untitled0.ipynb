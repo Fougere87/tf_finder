{
 "metadata": {
  "name": "",
  "signature": "sha256:8cd965cfdd4fd94526ca69cea61149238c48427edabb2b888cbecbd7d25ceaf4"
 },
 "nbformat": 3,
 "nbformat_minor": 0,
 "worksheets": [
  {
   "cells": [
    {
     "cell_type": "code",
     "collapsed": false,
     "input": [
      "from BCBio.GFF import GFFExaminer\n",
      "from BCBio import GFF\n",
      "from Bio import SeqIO, motifs\n",
      "from Bio.SeqRecord import SeqRecord\n",
      "from Bio.Seq import Seq\n",
      "from Bio.Alphabet import IUPAC\n",
      "from feature_finder import *"
     ],
     "language": "python",
     "metadata": {},
     "outputs": [],
     "prompt_number": 68
    },
    {
     "cell_type": "code",
     "collapsed": false,
     "input": [
      "gene = SeqIO.read(\"../ENSMMUG00000004670.fa\",\"fasta\")"
     ],
     "language": "python",
     "metadata": {},
     "outputs": [],
     "prompt_number": 59
    },
    {
     "cell_type": "code",
     "collapsed": false,
     "input": [
      "gene.seq[4550:4570].reverse_complement()"
     ],
     "language": "python",
     "metadata": {},
     "outputs": [
      {
       "metadata": {},
       "output_type": "pyout",
       "prompt_number": 60,
       "text": [
        "Seq('GCTATCTTATACCTCCTTAT', SingleLetterAlphabet())"
       ]
      }
     ],
     "prompt_number": 60
    },
    {
     "cell_type": "code",
     "collapsed": false,
     "input": [
      "in_file = \"/home/mayere/Analyse_RNAseq/Genomes/Ensembl_Mmul86/Macaca_mulatta.Mmul_8.0.1.86.gtf\"\n",
      "gene_list_file =\"/home/mayere/Analyse_RNAseq/Analysis/TF_discovery/TF_discov/Gene_list_EPI_vs_PE.txt\"\n",
      "jasp_motifs_file = \"/home/mayere/Analyse_RNAseq/Analysis/TF_discovery/Jaspar_sites/pfm_vertebrates.txt\"\n",
      "fasta_file = \"/home/mayere/Analyse_RNAseq/Genomes/Ensembl_Mmul86/Macaca_mulatta.Mmul_8.0.1.dna.chromosome.1.fa\"\n",
      "limite_info= dict( gff_id = [str(i) for i in range(1,21)]+['X','Y'], gff_source = ['ensembl'], gff_type = ['gene'])\n"
     ],
     "language": "python",
     "metadata": {},
     "outputs": [],
     "prompt_number": 21
    },
    {
     "cell_type": "code",
     "collapsed": false,
     "input": [
      "gene_dict = get_features_from_gff(gff_file=in_file , limite_info=limite_info)\n",
      "print('Done extracting features from gff')\n",
      "genes_positions = positions(gene_list_file, gene_dict=gene_dict)\n",
      "print('Done genes positions')\n",
      "sequences_records = finding_sequences(fasta=fasta_file,  features=genes_positions)\n",
      "print('Sequences extracted')\n",
      "motifs = motifs_list(jasp_motifs_file)\n",
      "print('Motifs extracted', len(motifs), \"are to be tested per sequence\")"
     ],
     "language": "python",
     "metadata": {},
     "outputs": [
      {
       "output_type": "stream",
       "stream": "stdout",
       "text": [
        "Done extracting features from gff\n",
        "Gene %s non trouv\u00e9 \n",
        "Done genes positions\n",
        "Sequences extracted"
       ]
      },
      {
       "output_type": "stream",
       "stream": "stdout",
       "text": [
        "\n",
        "Motifs extracted 519 are to be tested per sequence\n"
       ]
      }
     ],
     "prompt_number": 63
    },
    {
     "cell_type": "code",
     "collapsed": false,
     "input": [
      "for i, rec in enumerate(sequences_records) : \n",
      "    if rec.id == 'ENSMMUG00000004670' : \n",
      "        seq_int = sequences_records[i]\n",
      "\n",
      "print(seq_int)\n",
      "print(genes_positions[1])\n",
      "print(gene_dict['ENSMMUG00000004670'].qualifiers)\n",
      "print(gene_dict['ENSMMUG00000004670'])"
     ],
     "language": "python",
     "metadata": {},
     "outputs": [
      {
       "output_type": "stream",
       "stream": "stdout",
       "text": [
        "ID: ENSMMUG00000004670\n",
        "Name: <unknown name>\n",
        "Description: <unknown description>\n",
        "Number of features: 0\n",
        "Seq('TGTATTTCTAAGGTTTGTTTGTTTGTTTATTTGTTTTGCAGCTGTTGTAAAAGG...CAT', IUPACUnambiguousDNA())\n",
        "<feature_finder.FeatPosition object at 0x7f9e2e5c49b0>\n",
        "{'gene_name': ['WDR36'], 'source': ['ensembl'], 'gene_source': ['ensembl'], 'gene_version': ['3'], 'chrom': '6', 'gene_id': ['ENSMMUG00000004670'], 'gene_biotype': ['protein_coding']}\n",
        "type: gene\n",
        "location: [108554080:108592232](+)\n",
        "qualifiers:\n",
        "    Key: chrom, Value: 6\n",
        "    Key: gene_biotype, Value: ['protein_coding']\n",
        "    Key: gene_id, Value: ['ENSMMUG00000004670']\n",
        "    Key: gene_name, Value: ['WDR36']\n",
        "    Key: gene_source, Value: ['ensembl']\n",
        "    Key: gene_version, Value: ['3']\n",
        "    Key: source, Value: ['ensembl']\n",
        "\n"
       ]
      }
     ],
     "prompt_number": 56
    },
    {
     "cell_type": "code",
     "collapsed": false,
     "input": [
      "motifs = motifs_list(jasp_motifs_file)\n",
      "print('Motifs extracted', len(motifs), \"are to be tested per sequence\")\n",
      "motifs[1]\n",
      "sequences_records[1]\n",
      "align_motif(motifs[1], sequences_records[1], precision = 10**4, balance = 100000, pseudocounts = 0.1)"
     ],
     "language": "python",
     "metadata": {},
     "outputs": [
      {
       "output_type": "stream",
       "stream": "stdout",
       "text": [
        "Motifs extracted 519 are to be tested per sequence\n"
       ]
      },
      {
       "ename": "TypeError",
       "evalue": "align_motif() missing 1 required positional argument: 'background'",
       "output_type": "pyerr",
       "traceback": [
        "\u001b[0;31m---------------------------------------------------------------------------\u001b[0m\n\u001b[0;31mTypeError\u001b[0m                                 Traceback (most recent call last)",
        "\u001b[0;32m<ipython-input-69-9efafb7cdf09>\u001b[0m in \u001b[0;36m<module>\u001b[0;34m()\u001b[0m\n\u001b[1;32m      3\u001b[0m \u001b[0mmotifs\u001b[0m\u001b[0;34m[\u001b[0m\u001b[0;36m1\u001b[0m\u001b[0;34m]\u001b[0m\u001b[0;34m\u001b[0m\u001b[0m\n\u001b[1;32m      4\u001b[0m \u001b[0msequences_records\u001b[0m\u001b[0;34m[\u001b[0m\u001b[0;36m1\u001b[0m\u001b[0;34m]\u001b[0m\u001b[0;34m\u001b[0m\u001b[0m\n\u001b[0;32m----> 5\u001b[0;31m \u001b[0malign_motif\u001b[0m\u001b[0;34m(\u001b[0m\u001b[0mmotifs\u001b[0m\u001b[0;34m[\u001b[0m\u001b[0;36m1\u001b[0m\u001b[0;34m]\u001b[0m\u001b[0;34m,\u001b[0m \u001b[0msequences_records\u001b[0m\u001b[0;34m[\u001b[0m\u001b[0;36m1\u001b[0m\u001b[0;34m]\u001b[0m\u001b[0;34m,\u001b[0m \u001b[0mprecision\u001b[0m \u001b[0;34m=\u001b[0m \u001b[0;36m10\u001b[0m\u001b[0;34m**\u001b[0m\u001b[0;36m4\u001b[0m\u001b[0;34m,\u001b[0m \u001b[0mbalance\u001b[0m \u001b[0;34m=\u001b[0m \u001b[0;36m100000\u001b[0m\u001b[0;34m,\u001b[0m \u001b[0mpseudocounts\u001b[0m \u001b[0;34m=\u001b[0m \u001b[0;36m0.1\u001b[0m\u001b[0;34m)\u001b[0m\u001b[0;34m\u001b[0m\u001b[0m\n\u001b[0m",
        "\u001b[0;31mTypeError\u001b[0m: align_motif() missing 1 required positional argument: 'background'"
       ]
      }
     ],
     "prompt_number": 69
    }
   ],
   "metadata": {}
  }
 ]
}