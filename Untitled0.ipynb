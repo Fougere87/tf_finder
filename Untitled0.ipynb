{
 "metadata": {
  "name": "",
  "signature": "sha256:a807e9fedacccc02955d56d99579bbef6477ce130928c1cbece375145879c975"
 },
 "nbformat": 3,
 "nbformat_minor": 0,
 "worksheets": [
  {
   "cells": [
    {
     "cell_type": "code",
     "collapsed": false,
     "input": [
      "from BCBio.GFF import GFFExaminer\n",
      "from BCBio import GFF\n",
      "from Bio import SeqIO, motifs\n",
      "from Bio.SeqFeature import SeqFeature, FeatureLocation\n",
      "from Bio.SeqRecord import SeqRecord\n",
      "from Bio.Seq import Seq\n",
      "from Bio.Alphabet import IUPAC\n",
      "from feature_finder import *"
     ],
     "language": "python",
     "metadata": {},
     "outputs": [],
     "prompt_number": 1
    },
    {
     "cell_type": "code",
     "collapsed": false,
     "input": [
      "gene = SeqIO.read(\"../ENSMMUG00000004670.fa\",\"fasta\")"
     ],
     "language": "python",
     "metadata": {},
     "outputs": [],
     "prompt_number": 59
    },
    {
     "cell_type": "code",
     "collapsed": false,
     "input": [
      "gene.seq[4550:4570].reverse_complement()"
     ],
     "language": "python",
     "metadata": {},
     "outputs": [
      {
       "metadata": {},
       "output_type": "pyout",
       "prompt_number": 60,
       "text": [
        "Seq('GCTATCTTATACCTCCTTAT', SingleLetterAlphabet())"
       ]
      }
     ],
     "prompt_number": 60
    },
    {
     "cell_type": "code",
     "collapsed": false,
     "input": [
      "in_file = \"/home/mayere/Analyse_RNAseq/Genomes/Ensembl_Mmul86/Macaca_mulatta.Mmul_8.0.1.86.gtf\"\n",
      "gene_list_file =\"/home/mayere/Analyse_RNAseq/Analysis/TF_discovery/TF_discov/Gene_list_EPI_vs_PE.txt\"\n",
      "jasp_motifs_file = \"/home/mayere/Analyse_RNAseq/Analysis/TF_discovery/Jaspar_sites/pfm_vertebrates.txt\"\n",
      "fasta_file = \"/home/mayere/Analyse_RNAseq/Genomes/Ensembl_Mmul86/Macaca_mulatta.Mmul_8.0.1.dna.chromosome.1.fa\"\n",
      "limite_info= dict( gff_id = [str(i) for i in range(1,21)]+['X','Y'], gff_source = ['ensembl'], gff_type = ['gene'])\n",
      "DISTANCE = 2000"
     ],
     "language": "python",
     "metadata": {},
     "outputs": [],
     "prompt_number": 39
    },
    {
     "cell_type": "code",
     "collapsed": false,
     "input": [
      "gene_dict = get_features_from_gff(gff_file=in_file , limite_info=limite_info)\n",
      "print('Done extracting features from gff')\n",
      "genes_positions = positions(gene_list_file, gene_dict=gene_dict)\n",
      "print('Done genes positions')\n",
      "sequences_records = finding_sequences(fasta=fasta_file,  features=genes_positions)\n",
      "print('Sequences extracted')\n",
      "motifs = motifs_list(jasp_motifs_file)\n",
      "print('Motifs extracted', len(motifs), \"are to be tested per sequence\")"
     ],
     "language": "python",
     "metadata": {},
     "outputs": [
      {
       "output_type": "stream",
       "stream": "stdout",
       "text": [
        "Done extracting features from gff\n",
        "Pas de gene_name pour %s. ENSMMUG00000032158\n",
        "Done genes positions\n",
        "Sequences extracted"
       ]
      },
      {
       "output_type": "stream",
       "stream": "stdout",
       "text": [
        "\n",
        "Motifs extracted"
       ]
      },
      {
       "output_type": "stream",
       "stream": "stdout",
       "text": [
        " 519 are to be tested per sequence\n"
       ]
      }
     ],
     "prompt_number": 3
    },
    {
     "cell_type": "code",
     "collapsed": false,
     "input": [
      "\n",
      "#print(genes_positions[1])\n",
      "#print(gene_dict['ENSMMUG00000004670'].qualifiers)\n",
      "print(gene_dict['ENSMMUG00000004670'])\n",
      "gene_dict['ENSMMUG00000004670'].strand\n",
      "print(dir(SeqRecord))\n",
      "#gene_dict['ENSMMUG00000004670'].qualifiers['gene_name']"
     ],
     "language": "python",
     "metadata": {},
     "outputs": [
      {
       "output_type": "stream",
       "stream": "stdout",
       "text": [
        "type: gene\n",
        "location: [108554080:108592232](+)\n",
        "qualifiers:\n",
        "    Key: chrom, Value: 6\n",
        "    Key: gene_biotype, Value: ['protein_coding']\n",
        "    Key: gene_id, Value: ['ENSMMUG00000004670']\n",
        "    Key: gene_name, Value: ['WDR36']\n",
        "    Key: gene_source, Value: ['ensembl']\n",
        "    Key: gene_version, Value: ['3']\n",
        "    Key: source, Value: ['ensembl']\n",
        "\n",
        "['__add__', '__bool__', '__class__', '__contains__', '__delattr__', '__dict__', '__dir__', '__doc__', '__eq__', '__format__', '__ge__', '__getattribute__', '__getitem__', '__gt__', '__hash__', '__init__', '__iter__', '__le__', '__le___', '__len__', '__lt__', '__module__', '__ne__', '__new__', '__nonzero__', '__radd__', '__reduce__', '__reduce_ex__', '__repr__', '__setattr__', '__sizeof__', '__str__', '__subclasshook__', '__weakref__', '_set_per_letter_annotations', '_set_seq', 'format', 'letter_annotations', 'lower', 'reverse_complement', 'seq', 'upper']\n"
       ]
      }
     ],
     "prompt_number": 51
    },
    {
     "cell_type": "code",
     "collapsed": true,
     "input": [
      "#for mot in enumerate(motifs) : \n",
      " #   print(mot[0],mot[1].matrix_id)\n",
      "\n",
      "#for mot in enumerate(sequences_records) : \n",
      " #  print(mot[0],mot[1].id)    \n",
      "from Bio.SeqFeature import SeqFeature , FeatureLocation\n",
      "#del sequences_records[49].features[:]\n",
      "\n",
      "#alig = (455,10.245854564)\n",
      "#print(type(SeqFeature))\n",
      "\n",
      "#sequences_records[11].features.append(SeqFeature(id = motifs[69].matrix_id, location = FeatureLocation(start = alig[0], end =  alig[0] + len(motifs[69])), strand = 1))\n",
      "#SF = SeqFeature(id = \"plop\", strand = 1)\n",
      "#sequences_records[11].features.append(SeqFeature(id = motifs[69].matrix_id ), strand = 1)\n",
      "#sequences_records[11].features\n",
      "#print(SF)\n",
      "\n",
      "for mot in motifs[29:35] :\n",
      "    align_motif(mot, sequences_records[45], precision = 10**4, balance = 100000, pseudocounts = 0.1)\n",
      "\n",
      "print(sequences_records[45].features)"
     ],
     "language": "python",
     "metadata": {},
     "outputs": [
      {
       "output_type": "stream",
       "stream": "stdout",
       "text": [
        "Found 0 motifs\n",
        "Found 0 motifs"
       ]
      },
      {
       "output_type": "stream",
       "stream": "stdout",
       "text": [
        "\n",
        "Found 0 motifs"
       ]
      },
      {
       "output_type": "stream",
       "stream": "stdout",
       "text": [
        "\n",
        "Found 0 motifs"
       ]
      },
      {
       "output_type": "stream",
       "stream": "stdout",
       "text": [
        "\n",
        "Found 2 motifs"
       ]
      },
      {
       "output_type": "stream",
       "stream": "stdout",
       "text": [
        "\n",
        "Found 13 motifs"
       ]
      },
      {
       "output_type": "stream",
       "stream": "stdout",
       "text": [
        "\n",
        "[<feature_finder.AligFeat object at 0x7fd43109ccc0>, <feature_finder.AligFeat object at 0x7fd43109c160>, <feature_finder.AligFeat object at 0x7fd43109c7b8>, <feature_finder.AligFeat object at 0x7fd43109c908>, <feature_finder.AligFeat object at 0x7fd43109ce10>, <feature_finder.AligFeat object at 0x7fd43109c400>, <feature_finder.AligFeat object at 0x7fd43109c2b0>, <feature_finder.AligFeat object at 0x7fd430c0d320>, <feature_finder.AligFeat object at 0x7fd430c0df60>, <feature_finder.AligFeat object at 0x7fd430c0d978>, <feature_finder.AligFeat object at 0x7fd430c0d828>, <feature_finder.AligFeat object at 0x7fd430c0d0f0>, <feature_finder.AligFeat object at 0x7fd430c0d6d8>]\n"
       ]
      }
     ],
     "prompt_number": 42
    },
    {
     "cell_type": "code",
     "collapsed": false,
     "input": [
      "\n",
      "from itertools import product\n",
      "\n",
      "\n",
      "return_dict = {sequences_records[45].id : sequences_records[45], sequences_records[49].id : sequences_records[49]}\n",
      "\n",
      "print(return_dict)\n",
      "\n"
     ],
     "language": "python",
     "metadata": {},
     "outputs": [
      {
       "output_type": "stream",
       "stream": "stdout",
       "text": [
        "{'ENSMMUG00000014633': SeqRecord(seq=Seq('TGTATGTGAGGTCTGAATTGGCTTGGGTATATATGTATGGATCGTCTCACCAAG...TTT', IUPACUnambiguousDNA()), id='ENSMMUG00000014633', name=['ETV4'], description='<unknown description>', dbxrefs=[]), 'ENSMMUG00000009364': SeqRecord(seq=Seq('AGAAAAATGTGCGCCTCCATACGTGTTTATCAAAGTAACTTCCCAAGTGGAAAC...TAA', IUPACUnambiguousDNA()), id='ENSMMUG00000009364', name=['TFAP2C'], description='<unknown description>', dbxrefs=[])}\n"
       ]
      }
     ],
     "prompt_number": 48
    },
    {
     "cell_type": "code",
     "collapsed": false,
     "input": [
      "#del sequences_records[11].features[:]\n",
      "import json \n",
      "\n",
      "copy_seqrec49 = sequences_records[49]\n",
      "import numpy\n",
      "def encoder(obj) : \n",
      "    if hasattr(obj, \"__dict__\") : \n",
      "        return obj.__dict__\n",
      "    elif isinstance(obj, numpy.floating) :\n",
      "        return float(obj)\n",
      "    else:\n",
      "        raise TypeError(\n",
      "            \"Unserializable object {} of type {}\".format(obj, type(obj))\n",
      "        )\n",
      "#print(copy_seqrec49.features)    \n",
      "for k in return_dict.keys() :\n",
      "    if return_dict[k].features != [] :\n",
      "        print(return_dict[k].id, '\\t', str(return_dict[k].annotations), '\\t', return_dict[k].name, '\\t', end=\"\")\n",
      "        [print(\"{};{};{};{};{}\".format(feat.id, feat.name, feat.score, feat.start, feat.strand), end=\"\\t\") for feat in return_dict[k].features]\n",
      "        print(\"\\n\")\n",
      "\n",
      "with open('jsonfile.json', 'w') as f : \n",
      "    json.dump(return_dict, f, default= todict)\n"
     ],
     "language": "python",
     "metadata": {},
     "outputs": [
      {
       "output_type": "stream",
       "stream": "stdout",
       "text": [
        "ENSMMUG00000014633 \t {'chr': '16', 'strand': -1, 'start': 49329290, 'end': 49339290} \t ['ETV4'] \tMA0052.3;MEF2A;16.73992347717285;4058;1\tMA0052.3;MEF2A;19.040332794189453;9644;-1\tMA0056.1;MZF1;10.205759048461914;3252;-1\tMA0056.1;MZF1;10.205759048461914;3992;-1\tMA0056.1;MZF1;10.205759048461914;4243;-1\tMA0056.1;MZF1;10.205759048461914;5449;-1\tMA0056.1;MZF1;10.205759048461914;6220;-1\tMA0056.1;MZF1;10.205759048461914;6483;-1\tMA0056.1;MZF1;10.205759048461914;6536;-1\tMA0056.1;MZF1;10.205759048461914;7525;-1\tMA0056.1;MZF1;10.205759048461914;7615;-1\tMA0056.1;MZF1;10.205759048461914;8682;-1\tMA0056.1;MZF1;10.205759048461914;8693;-1\t\n",
        "\n",
        "ENSMMUG00000009364 \t {'chr': '10', 'strand': -1, 'start': 7797943, 'end': 7807943} \t ['TFAP2C'] \tMA0047.2;Foxa2;16.28282356262207;2076;1\tMA0050.2;IRF1;15.066131591796875;2186;1\tMA0050.2;IRF1;15.517663955688477;2190;1\tMA0050.2;IRF1;16.76079559326172;2500;1\tMA0050.2;IRF1;13.030421257019043;2504;1\tMA0050.2;IRF1;16.186840057373047;5830;-1\tMA0050.2;IRF1;17.08079719543457;5836;-1\tMA0050.2;IRF1;13.88878059387207;7881;-1\tMA0057.1;MZF1(var.2);12.296066284179688;688;-1\tMA0057.1;MZF1(var.2);11.530991554260254;1658;-1\tMA0057.1;MZF1(var.2);12.61442756652832;4258;-1\tMA0057.1;MZF1(var.2);11.171810150146484;4264;-1\tMA0057.1;MZF1(var.2);11.321040153503418;4630;-1\tMA0060.2;NFYA;13.29062557220459;2054;-1\tMA0062.2;Gabpa;13.001319885253906;2500;-1\tMA0062.2;Gabpa;13.377775192260742;2961;-1\t\n",
        "\n"
       ]
      }
     ],
     "prompt_number": 56
    },
    {
     "cell_type": "code",
     "collapsed": false,
     "input": [
      "import csv \n",
      "csv.DictWriter"
     ],
     "language": "python",
     "metadata": {},
     "outputs": [
      {
       "output_type": "stream",
       "stream": "stdout",
       "text": [
        "ENSMMUG00000005668 KMO {'strand': 1, 'end': 218005728, 'chr': '1', 'start': 218003728} [{'type': '', 'location': FeatureLocation(ExactPosition(821), ExactPosition(828), strand=1), 'qualifiers': {'score': 11.88407}, 'id': 'MA0099.2.821'}, {'type': '', 'location': FeatureLocation(ExactPosition(1776), ExactPosition(1783), strand=1), 'qualifiers': {'score': 11.88407}, 'id': 'MA0099.2.1776'}]\n"
       ]
      }
     ],
     "prompt_number": 74
    }
   ],
   "metadata": {}
  }
 ]
}