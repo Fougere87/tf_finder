{
 "metadata": {
  "name": "",
  "signature": "sha256:a9926e9c7fbb7e056306aa7a7e37d40e4306c2efd67deef8d914ab85b675467a"
 },
 "nbformat": 3,
 "nbformat_minor": 0,
 "worksheets": [
  {
   "cells": [
    {
     "cell_type": "code",
     "collapsed": false,
     "input": [
      "from BCBio.GFF import GFFExaminer\n",
      "from BCBio import GFF\n",
      "from Bio import SeqIO, motifs\n",
      "from Bio.SeqRecord import SeqRecord\n",
      "from Bio.Seq import Seq\n",
      "from Bio.Alphabet import IUPAC\n",
      "from feature_finder import *"
     ],
     "language": "python",
     "metadata": {},
     "outputs": [],
     "prompt_number": 24
    },
    {
     "cell_type": "code",
     "collapsed": false,
     "input": [
      "gene = SeqIO.read(\"../ENSMMUG00000004670.fa\",\"fasta\")"
     ],
     "language": "python",
     "metadata": {},
     "outputs": [],
     "prompt_number": 9
    },
    {
     "cell_type": "code",
     "collapsed": false,
     "input": [
      "gene.seq[4550:4570].reverse_complement()"
     ],
     "language": "python",
     "metadata": {},
     "outputs": [
      {
       "metadata": {},
       "output_type": "pyout",
       "prompt_number": 19,
       "text": [
        "Seq('GCTATCTTATACCTCCTTAT', SingleLetterAlphabet())"
       ]
      }
     ],
     "prompt_number": 19
    },
    {
     "cell_type": "code",
     "collapsed": false,
     "input": [
      "in_file = \"/home/mayere/Analyse_RNAseq/Genomes/Ensembl_Mmul86/Macaca_mulatta.Mmul_8.0.1.86.gtf\"\n",
      "gene_list_file =\"/home/mayere/Analyse_RNAseq/Analysis/TF_discovery/TF_discov/Gene_list_EPI_vs_PE.txt\"\n",
      "jasp_motifs_file = \"/home/mayere/Analyse_RNAseq/Analysis/TF_discovery/Jaspar_sites/pfm_vertebrates.txt\"\n",
      "fasta_file = \"/home/mayere/Analyse_RNAseq/Genomes/Ensembl_Mmul86/Macaca_mulatta.Mmul_8.0.1.dna.chromosome.1.fa\"\n",
      "limite_info= dict( gff_id = [str(i) for i in range(1,21)]+['X','Y'], gff_source = ['ensembl'], gff_type = ['gene'])\n"
     ],
     "language": "python",
     "metadata": {},
     "outputs": [],
     "prompt_number": 21
    },
    {
     "cell_type": "code",
     "collapsed": false,
     "input": [
      "gene_dict = get_features_from_gff(gff_file=in_file , limite_info=limite_info)\n",
      "print('Done extracting features from gff')\n",
      "genes_positions = positions(gene_list_file, gene_dict=gene_dict)\n",
      "print('Done genes positions')\n",
      "sequences_records = finding_sequences(fasta=fasta_file,  features=genes_positions)\n",
      "print('Sequences extracted')\n",
      "motifs = motifs_list(jasp_motifs_file)\n",
      "print('Motifs extracted', len(motifs), \"are to be tested per sequence\")"
     ],
     "language": "python",
     "metadata": {},
     "outputs": [
      {
       "output_type": "stream",
       "stream": "stdout",
       "text": [
        "Done extracting features from gff\n",
        "Gene %s non trouv\u00e9 \n",
        "Done genes positions\n",
        "Sequences extracted"
       ]
      },
      {
       "output_type": "stream",
       "stream": "stdout",
       "text": [
        "\n",
        "Motifs extracted 519 are to be tested per sequence\n"
       ]
      }
     ],
     "prompt_number": 26
    },
    {
     "cell_type": "code",
     "collapsed": false,
     "input": [
      "for i, rec in enumerate(sequences_records) : \n",
      "    if rec.id == 'ENSMMUG00000004670' : \n",
      "        seq_int = sequences_records[i]\n",
      "\n",
      "print(seq_int)\n",
      "print(genes_positions[1])\n",
      "print(gene_dict['ENSMMUG00000004670'].qualifiers)\n",
      "print(gene_dict['ENSMMUG00000004670'])"
     ],
     "language": "python",
     "metadata": {},
     "outputs": [
      {
       "output_type": "stream",
       "stream": "stdout",
       "text": [
        "ID: ENSMMUG00000004670\n",
        "Name: <unknown name>\n",
        "Description: <unknown description>\n",
        "Number of features: 0\n",
        "Seq('TGTATTTCTAAGGTTTGTTTGTTTGTTTATTTGTTTTGCAGCTGTTGTAAAAGG...CAT', IUPACUnambiguousDNA())\n",
        "<feature_finder.FeatPosition object at 0x7f9e2e5c49b0>\n",
        "{'gene_name': ['WDR36'], 'source': ['ensembl'], 'gene_source': ['ensembl'], 'gene_version': ['3'], 'chrom': '6', 'gene_id': ['ENSMMUG00000004670'], 'gene_biotype': ['protein_coding']}\n",
        "type: gene\n",
        "location: [108554080:108592232](+)\n",
        "qualifiers:\n",
        "    Key: chrom, Value: 6\n",
        "    Key: gene_biotype, Value: ['protein_coding']\n",
        "    Key: gene_id, Value: ['ENSMMUG00000004670']\n",
        "    Key: gene_name, Value: ['WDR36']\n",
        "    Key: gene_source, Value: ['ensembl']\n",
        "    Key: gene_version, Value: ['3']\n",
        "    Key: source, Value: ['ensembl']\n",
        "\n"
       ]
      }
     ],
     "prompt_number": 55
    }
   ],
   "metadata": {}
  }
 ]
}